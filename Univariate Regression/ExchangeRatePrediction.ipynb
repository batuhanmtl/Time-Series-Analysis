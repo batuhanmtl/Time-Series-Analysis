{
 "cells": [
  {
   "attachments": {},
   "cell_type": "markdown",
   "metadata": {},
   "source": [
    "# Application for Univariate Time Series: Algorithmic Trading Model for $/₺ Exchange Rates"
   ]
  },
  {
   "attachments": {},
   "cell_type": "markdown",
   "metadata": {},
   "source": [
    "- <b>Univariate Time Series: ARIMA<b>"
   ]
  },
  {
   "cell_type": "code",
   "execution_count": 1,
   "metadata": {},
   "outputs": [],
   "source": [
    "import numpy as np\n",
    "import pandas as pd\n",
    "import matplotlib.pyplot as plt\n",
    "import seaborn as sns\n",
    "import yahoofinancials as yf\n",
    "import requests\n",
    "import ftplib\n",
    "import io"
   ]
  },
  {
   "attachments": {},
   "cell_type": "markdown",
   "metadata": {},
   "source": [
    "<b>Let's download the Dataset from Yahoo Finance<b>"
   ]
  },
  {
   "cell_type": "code",
   "execution_count": 2,
   "metadata": {},
   "outputs": [
    {
     "data": {
      "text/html": [
       "<div>\n",
       "<style scoped>\n",
       "    .dataframe tbody tr th:only-of-type {\n",
       "        vertical-align: middle;\n",
       "    }\n",
       "\n",
       "    .dataframe tbody tr th {\n",
       "        vertical-align: top;\n",
       "    }\n",
       "\n",
       "    .dataframe thead th {\n",
       "        text-align: right;\n",
       "    }\n",
       "</style>\n",
       "<table border=\"1\" class=\"dataframe\">\n",
       "  <thead>\n",
       "    <tr style=\"text-align: right;\">\n",
       "      <th></th>\n",
       "      <th>high</th>\n",
       "      <th>low</th>\n",
       "      <th>open</th>\n",
       "      <th>close</th>\n",
       "      <th>volume</th>\n",
       "      <th>adjclose</th>\n",
       "    </tr>\n",
       "    <tr>\n",
       "      <th>formatted_date</th>\n",
       "      <th></th>\n",
       "      <th></th>\n",
       "      <th></th>\n",
       "      <th></th>\n",
       "      <th></th>\n",
       "      <th></th>\n",
       "    </tr>\n",
       "  </thead>\n",
       "  <tbody>\n",
       "    <tr>\n",
       "      <th>2017-01-02</th>\n",
       "      <td>3.54485</td>\n",
       "      <td>3.52440</td>\n",
       "      <td>3.53490</td>\n",
       "      <td>3.53490</td>\n",
       "      <td>0.0</td>\n",
       "      <td>3.53490</td>\n",
       "    </tr>\n",
       "    <tr>\n",
       "      <th>2017-01-03</th>\n",
       "      <td>3.60310</td>\n",
       "      <td>3.53529</td>\n",
       "      <td>3.54280</td>\n",
       "      <td>3.54190</td>\n",
       "      <td>0.0</td>\n",
       "      <td>3.54190</td>\n",
       "    </tr>\n",
       "    <tr>\n",
       "      <th>2017-01-04</th>\n",
       "      <td>3.59310</td>\n",
       "      <td>3.56700</td>\n",
       "      <td>3.59115</td>\n",
       "      <td>3.59230</td>\n",
       "      <td>0.0</td>\n",
       "      <td>3.59230</td>\n",
       "    </tr>\n",
       "    <tr>\n",
       "      <th>2017-01-05</th>\n",
       "      <td>3.63486</td>\n",
       "      <td>3.55536</td>\n",
       "      <td>3.56930</td>\n",
       "      <td>3.56937</td>\n",
       "      <td>0.0</td>\n",
       "      <td>3.56937</td>\n",
       "    </tr>\n",
       "    <tr>\n",
       "      <th>2017-01-06</th>\n",
       "      <td>3.63600</td>\n",
       "      <td>3.59137</td>\n",
       "      <td>3.59270</td>\n",
       "      <td>3.59191</td>\n",
       "      <td>0.0</td>\n",
       "      <td>3.59191</td>\n",
       "    </tr>\n",
       "  </tbody>\n",
       "</table>\n",
       "</div>"
      ],
      "text/plain": [
       "                   high      low     open    close  volume  adjclose\n",
       "formatted_date                                                      \n",
       "2017-01-02      3.54485  3.52440  3.53490  3.53490     0.0   3.53490\n",
       "2017-01-03      3.60310  3.53529  3.54280  3.54190     0.0   3.54190\n",
       "2017-01-04      3.59310  3.56700  3.59115  3.59230     0.0   3.59230\n",
       "2017-01-05      3.63486  3.55536  3.56930  3.56937     0.0   3.56937\n",
       "2017-01-06      3.63600  3.59137  3.59270  3.59191     0.0   3.59191"
      ]
     },
     "execution_count": 2,
     "metadata": {},
     "output_type": "execute_result"
    }
   ],
   "source": [
    "history = yf.YahooFinancials('USDTRY=X').get_historical_price_data('2017-01-01', '2020-01-01', 'daily')\n",
    "\n",
    "df = pd.DataFrame(history['USDTRY=X']['prices'])\n",
    "\n",
    "df = df.drop(['date'], axis=1).set_index('formatted_date')\n",
    "df.head()"
   ]
  },
  {
   "cell_type": "code",
   "execution_count": null,
   "metadata": {},
   "outputs": [],
   "source": []
  }
 ],
 "metadata": {
  "kernelspec": {
   "display_name": "Python 3",
   "language": "python",
   "name": "python3"
  },
  "language_info": {
   "codemirror_mode": {
    "name": "ipython",
    "version": 3
   },
   "file_extension": ".py",
   "mimetype": "text/x-python",
   "name": "python",
   "nbconvert_exporter": "python",
   "pygments_lexer": "ipython3",
   "version": "3.8.10"
  },
  "orig_nbformat": 4,
  "vscode": {
   "interpreter": {
    "hash": "3b86cf26b111134157ebe845dcff7287e37fbcdfe2e6a1ab798ab9bf32d5b708"
   }
  }
 },
 "nbformat": 4,
 "nbformat_minor": 2
}
