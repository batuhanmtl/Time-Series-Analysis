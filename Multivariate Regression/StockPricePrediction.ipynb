{
 "cells": [
  {
   "attachments": {},
   "cell_type": "markdown",
   "metadata": {},
   "source": [
    "# Stock Price Prediction with Multivariate Regression"
   ]
  },
  {
   "cell_type": "code",
   "execution_count": 6,
   "metadata": {},
   "outputs": [],
   "source": [
    "import numpy as np\n",
    "import pandas as pd\n",
    "import matplotlib.pyplot as plt\n",
    "import seaborn as sns\n",
    "import yahoofinancials as yf\n",
    "from yahoo_fin.stock_info import *\n",
    "import requests_html\n",
    "import requests\n",
    "import ftplib\n",
    "import ta\n"
   ]
  },
  {
   "cell_type": "code",
   "execution_count": 7,
   "metadata": {},
   "outputs": [
    {
     "data": {
      "text/html": [
       "<div>\n",
       "<style scoped>\n",
       "    .dataframe tbody tr th:only-of-type {\n",
       "        vertical-align: middle;\n",
       "    }\n",
       "\n",
       "    .dataframe tbody tr th {\n",
       "        vertical-align: top;\n",
       "    }\n",
       "\n",
       "    .dataframe thead th {\n",
       "        text-align: right;\n",
       "    }\n",
       "</style>\n",
       "<table border=\"1\" class=\"dataframe\">\n",
       "  <thead>\n",
       "    <tr style=\"text-align: right;\">\n",
       "      <th></th>\n",
       "      <th>date</th>\n",
       "      <th>high</th>\n",
       "      <th>low</th>\n",
       "      <th>open</th>\n",
       "      <th>close</th>\n",
       "      <th>volume</th>\n",
       "      <th>adjclose</th>\n",
       "      <th>formatted_date</th>\n",
       "    </tr>\n",
       "  </thead>\n",
       "  <tbody>\n",
       "    <tr>\n",
       "      <th>0</th>\n",
       "      <td>1546327800</td>\n",
       "      <td>12.08</td>\n",
       "      <td>12.08</td>\n",
       "      <td>12.08</td>\n",
       "      <td>12.08</td>\n",
       "      <td>0</td>\n",
       "      <td>11.713909</td>\n",
       "      <td>2019-01-01</td>\n",
       "    </tr>\n",
       "    <tr>\n",
       "      <th>1</th>\n",
       "      <td>1546414200</td>\n",
       "      <td>12.05</td>\n",
       "      <td>11.75</td>\n",
       "      <td>12.05</td>\n",
       "      <td>11.77</td>\n",
       "      <td>13489318</td>\n",
       "      <td>11.413302</td>\n",
       "      <td>2019-01-02</td>\n",
       "    </tr>\n",
       "    <tr>\n",
       "      <th>2</th>\n",
       "      <td>1546500600</td>\n",
       "      <td>11.81</td>\n",
       "      <td>11.29</td>\n",
       "      <td>11.70</td>\n",
       "      <td>11.34</td>\n",
       "      <td>22491438</td>\n",
       "      <td>10.996334</td>\n",
       "      <td>2019-01-03</td>\n",
       "    </tr>\n",
       "    <tr>\n",
       "      <th>3</th>\n",
       "      <td>1546587000</td>\n",
       "      <td>11.51</td>\n",
       "      <td>11.32</td>\n",
       "      <td>11.41</td>\n",
       "      <td>11.48</td>\n",
       "      <td>18335498</td>\n",
       "      <td>11.132091</td>\n",
       "      <td>2019-01-04</td>\n",
       "    </tr>\n",
       "    <tr>\n",
       "      <th>4</th>\n",
       "      <td>1546846200</td>\n",
       "      <td>11.61</td>\n",
       "      <td>11.44</td>\n",
       "      <td>11.56</td>\n",
       "      <td>11.46</td>\n",
       "      <td>14899270</td>\n",
       "      <td>11.112698</td>\n",
       "      <td>2019-01-07</td>\n",
       "    </tr>\n",
       "  </tbody>\n",
       "</table>\n",
       "</div>"
      ],
      "text/plain": [
       "         date   high    low   open  close    volume   adjclose formatted_date\n",
       "0  1546327800  12.08  12.08  12.08  12.08         0  11.713909     2019-01-01\n",
       "1  1546414200  12.05  11.75  12.05  11.77  13489318  11.413302     2019-01-02\n",
       "2  1546500600  11.81  11.29  11.70  11.34  22491438  10.996334     2019-01-03\n",
       "3  1546587000  11.51  11.32  11.41  11.48  18335498  11.132091     2019-01-04\n",
       "4  1546846200  11.61  11.44  11.56  11.46  14899270  11.112698     2019-01-07"
      ]
     },
     "execution_count": 7,
     "metadata": {},
     "output_type": "execute_result"
    }
   ],
   "source": [
    "history = yf.YahooFinancials('ASELS.IS').get_historical_price_data('2019-01-01', '2019-12-31', 'daily')\n",
    "df = pd.DataFrame(history['ASELS.IS']['prices'])\n",
    "df.head()"
   ]
  },
  {
   "cell_type": "code",
   "execution_count": 8,
   "metadata": {},
   "outputs": [],
   "source": [
    "df.drop('date', axis=1, inplace=True)"
   ]
  },
  {
   "cell_type": "code",
   "execution_count": null,
   "metadata": {},
   "outputs": [],
   "source": []
  }
 ],
 "metadata": {
  "kernelspec": {
   "display_name": "Python 3",
   "language": "python",
   "name": "python3"
  },
  "language_info": {
   "codemirror_mode": {
    "name": "ipython",
    "version": 3
   },
   "file_extension": ".py",
   "mimetype": "text/x-python",
   "name": "python",
   "nbconvert_exporter": "python",
   "pygments_lexer": "ipython3",
   "version": "3.8.10"
  },
  "orig_nbformat": 4,
  "vscode": {
   "interpreter": {
    "hash": "3b86cf26b111134157ebe845dcff7287e37fbcdfe2e6a1ab798ab9bf32d5b708"
   }
  }
 },
 "nbformat": 4,
 "nbformat_minor": 2
}
