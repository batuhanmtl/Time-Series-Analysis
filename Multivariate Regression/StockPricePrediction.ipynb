{
 "cells": [
  {
   "attachments": {},
   "cell_type": "markdown",
   "metadata": {},
   "source": [
    "# Back-Testing for Algorithmic Trading Strategies"
   ]
  },
  {
   "cell_type": "code",
   "execution_count": 7,
   "metadata": {},
   "outputs": [],
   "source": [
    "import numpy as np\n",
    "import pandas as pd\n",
    "import matplotlib.pyplot as plt\n",
    "import seaborn as sns\n",
    "import yahoofinancials as yf\n",
    "from yahoo_fin.stock_info import *\n",
    "import requests_html\n",
    "import requests\n",
    "import ftplib\n",
    "import ta\n"
   ]
  },
  {
   "attachments": {},
   "cell_type": "markdown",
   "metadata": {},
   "source": [
    "<b>Let's get the historical time series data of the stock by specifying the start and end dates<b>"
   ]
  },
  {
   "cell_type": "code",
   "execution_count": 8,
   "metadata": {},
   "outputs": [
    {
     "data": {
      "text/html": [
       "<div>\n",
       "<style scoped>\n",
       "    .dataframe tbody tr th:only-of-type {\n",
       "        vertical-align: middle;\n",
       "    }\n",
       "\n",
       "    .dataframe tbody tr th {\n",
       "        vertical-align: top;\n",
       "    }\n",
       "\n",
       "    .dataframe thead th {\n",
       "        text-align: right;\n",
       "    }\n",
       "</style>\n",
       "<table border=\"1\" class=\"dataframe\">\n",
       "  <thead>\n",
       "    <tr style=\"text-align: right;\">\n",
       "      <th></th>\n",
       "      <th>date</th>\n",
       "      <th>high</th>\n",
       "      <th>low</th>\n",
       "      <th>open</th>\n",
       "      <th>close</th>\n",
       "      <th>volume</th>\n",
       "      <th>adjclose</th>\n",
       "      <th>formatted_date</th>\n",
       "    </tr>\n",
       "  </thead>\n",
       "  <tbody>\n",
       "    <tr>\n",
       "      <th>0</th>\n",
       "      <td>1609745400</td>\n",
       "      <td>18.610001</td>\n",
       "      <td>18.299999</td>\n",
       "      <td>18.350000</td>\n",
       "      <td>18.360001</td>\n",
       "      <td>36331500</td>\n",
       "      <td>18.098007</td>\n",
       "      <td>2021-01-04</td>\n",
       "    </tr>\n",
       "    <tr>\n",
       "      <th>1</th>\n",
       "      <td>1609831800</td>\n",
       "      <td>18.510000</td>\n",
       "      <td>18.180000</td>\n",
       "      <td>18.320000</td>\n",
       "      <td>18.280001</td>\n",
       "      <td>33769846</td>\n",
       "      <td>18.019148</td>\n",
       "      <td>2021-01-05</td>\n",
       "    </tr>\n",
       "    <tr>\n",
       "      <th>2</th>\n",
       "      <td>1609918200</td>\n",
       "      <td>18.950001</td>\n",
       "      <td>18.430000</td>\n",
       "      <td>18.500000</td>\n",
       "      <td>18.709999</td>\n",
       "      <td>73963507</td>\n",
       "      <td>18.443010</td>\n",
       "      <td>2021-01-06</td>\n",
       "    </tr>\n",
       "    <tr>\n",
       "      <th>3</th>\n",
       "      <td>1610004600</td>\n",
       "      <td>19.170000</td>\n",
       "      <td>18.790001</td>\n",
       "      <td>18.799999</td>\n",
       "      <td>18.950001</td>\n",
       "      <td>66513392</td>\n",
       "      <td>18.679588</td>\n",
       "      <td>2021-01-07</td>\n",
       "    </tr>\n",
       "    <tr>\n",
       "      <th>4</th>\n",
       "      <td>1610091000</td>\n",
       "      <td>19.150000</td>\n",
       "      <td>18.900000</td>\n",
       "      <td>19.059999</td>\n",
       "      <td>18.980000</td>\n",
       "      <td>32197137</td>\n",
       "      <td>18.709156</td>\n",
       "      <td>2021-01-08</td>\n",
       "    </tr>\n",
       "  </tbody>\n",
       "</table>\n",
       "</div>"
      ],
      "text/plain": [
       "         date       high        low       open      close    volume  \\\n",
       "0  1609745400  18.610001  18.299999  18.350000  18.360001  36331500   \n",
       "1  1609831800  18.510000  18.180000  18.320000  18.280001  33769846   \n",
       "2  1609918200  18.950001  18.430000  18.500000  18.709999  73963507   \n",
       "3  1610004600  19.170000  18.790001  18.799999  18.950001  66513392   \n",
       "4  1610091000  19.150000  18.900000  19.059999  18.980000  32197137   \n",
       "\n",
       "    adjclose formatted_date  \n",
       "0  18.098007     2021-01-04  \n",
       "1  18.019148     2021-01-05  \n",
       "2  18.443010     2021-01-06  \n",
       "3  18.679588     2021-01-07  \n",
       "4  18.709156     2021-01-08  "
      ]
     },
     "execution_count": 8,
     "metadata": {},
     "output_type": "execute_result"
    }
   ],
   "source": [
    "history = yf.YahooFinancials('ASELS.IS').get_historical_price_data('2021-01-01', '2021-12-31', 'daily')\n",
    "df = pd.DataFrame(history['ASELS.IS']['prices'])\n",
    "df.head()"
   ]
  },
  {
   "cell_type": "code",
   "execution_count": 9,
   "metadata": {},
   "outputs": [],
   "source": [
    "df.drop('date', axis=1, inplace=True)"
   ]
  },
  {
   "cell_type": "code",
   "execution_count": 10,
   "metadata": {},
   "outputs": [],
   "source": [
    "df.index = pd.to_datetime(df['formatted_date'])\n",
    "df.drop('formatted_date', axis=1, inplace=True)"
   ]
  },
  {
   "cell_type": "code",
   "execution_count": null,
   "metadata": {},
   "outputs": [],
   "source": []
  }
 ],
 "metadata": {
  "kernelspec": {
   "display_name": "Python 3",
   "language": "python",
   "name": "python3"
  },
  "language_info": {
   "codemirror_mode": {
    "name": "ipython",
    "version": 3
   },
   "file_extension": ".py",
   "mimetype": "text/x-python",
   "name": "python",
   "nbconvert_exporter": "python",
   "pygments_lexer": "ipython3",
   "version": "3.8.10"
  },
  "orig_nbformat": 4,
  "vscode": {
   "interpreter": {
    "hash": "3b86cf26b111134157ebe845dcff7287e37fbcdfe2e6a1ab798ab9bf32d5b708"
   }
  }
 },
 "nbformat": 4,
 "nbformat_minor": 2
}
